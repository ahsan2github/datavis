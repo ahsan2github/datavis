{
 "cells": [
  {
   "cell_type": "code",
   "execution_count": 16,
   "metadata": {},
   "outputs": [
    {
     "name": "stdout",
     "output_type": "stream",
     "text": [
      "No of rows with missing data 504790, % row with missing values  68.04319372609915\n",
      "\n"
     ]
    }
   ],
   "source": [
    "import pandas as pd\n",
    "import numpy as np\n",
    "url_orcid = \"https://raw.githubusercontent.com/ahsan2github/datavis/master/ORCID_migrations_2016_12_16_by_person.csv\";\n",
    "df_all = pd.read_csv(url_orcid);\n",
    "#print df_all.head().to_string();\n",
    "nrows_with_na, ncols_with_na = df_all.shape;\n",
    "df = df_all.dropna(how='any');\n",
    "nrows_no_na, ncols_no_na = df.shape;\n",
    "#print (df.head(3).to_string() + \"\\n\");\n",
    "print (\"No of rows with missing data {0}, % row with missing values  {1}\\n\".format(nrows_with_na-nrows_no_na, \\\n",
    "                                            (nrows_with_na-nrows_no_na)/np.double(nrows_with_na)*100.0));"
   ]
  },
  {
   "cell_type": "code",
   "execution_count": 17,
   "metadata": {
    "scrolled": true
   },
   "outputs": [
    {
     "name": "stdout",
     "output_type": "stream",
     "text": [
      "Total no. of countries that awarded PhD in 2016: 162 \n",
      "\n"
     ]
    }
   ],
   "source": [
    "#get data only when phd was awarded in 2016\n",
    "df_2016 = df[df.phd_year==2016];\n",
    "# get the total no of countries where phd was awarded, for 2016 only\n",
    "no_awarding_countries, = df_2016.phd_country.unique().shape; # no of rows of an ndarray\n",
    "print(\"Total no. of countries that awarded PhD in 2016: {} \\n\".format(no_awarding_countries));\n",
    "# get country wise phd number and keep only the column that makes sense after summation\n",
    "country_wise_phd = df_2016.groupby('phd_country').sum()[['has_phd']];\n",
    "total_phd_awarded_2016 = country_wise_phd['has_phd'].sum();\n",
    "# get the total phd awarded in 2016\n",
    "country_wise_phd_prcnt = pd.DataFrame(columns=['phd_country','phd_prcnt']);\n",
    "country_wise_phd_prcnt['phd_prcnt'] = country_wise_phd['has_phd'].\\\n",
    "    apply(lambda x: x / total_phd_awarded_2016 * 100);\n",
    "country_wise_phd_prcnt['phd_country'] = country_wise_phd_prcnt.index.tolist();\n",
    "country_wise_phd_prcnt['alpha-3']= '';\n",
    "url_slim3 = \"https://raw.githubusercontent.com/ahsan2github/datavis/master/slim-3.csv\";\n",
    "country_codes3= pd.read_csv(url_slim3);\n",
    "for x in country_wise_phd_prcnt.index.tolist():\n",
    "    # get a single row as a data frame where condition is true\n",
    "    y = country_codes3[country_codes3['alpha-2']==x];\n",
    "    country_wise_phd_prcnt.at[x,'phd_country'] = y['name'].values[0];\n",
    "    country_wise_phd_prcnt.at[x,'alpha-3'] = y['alpha-3'].values[0]; "
   ]
  },
  {
   "cell_type": "code",
   "execution_count": null,
   "metadata": {
    "slideshow": {
     "slide_type": "skip"
    }
   },
   "outputs": [],
   "source": [
    "ply.sign_in('user_name', 'api_key');;"
   ]
  },
  {
   "cell_type": "code",
   "execution_count": 21,
   "metadata": {},
   "outputs": [
    {
     "data": {
      "text/html": [
       "<iframe id=\"igraph\" scrolling=\"no\" style=\"border:none;\"seamless=\"seamless\" src=\"https://plot.ly/~ahsan_mecha/2.embed\" height=\"525px\" width=\"100%\"></iframe>"
      ],
      "text/plain": [
       "<plotly.tools.PlotlyDisplay object>"
      ]
     },
     "execution_count": 21,
     "metadata": {},
     "output_type": "execute_result"
    }
   ],
   "source": [
    "\n",
    "# plot world wide data on maps\n",
    "import plotly.plotly as ply\n",
    "import plotly\n",
    "data = [ dict(\n",
    "        type='choropleth',\n",
    "        autocolorscale = True,\n",
    "        locations = country_wise_phd_prcnt['alpha-3'],\n",
    "        z = country_wise_phd_prcnt['phd_prcnt'].astype(float),\n",
    "        text = country_wise_phd_prcnt['phd_country'],\n",
    "        marker = dict(\n",
    "            line = dict (\n",
    "                color = 'rgb(252,180,180)',\n",
    "                width = 2\n",
    "            ) ),\n",
    "        colorbar = dict(\n",
    "            title = \"% PhD Awarded\")\n",
    "        ) ]\n",
    "\n",
    "layout = dict(\n",
    "        title = 'Phd awarded in 2016 around the world<br> shown as percentage of world-wide total \\\n",
    "        <br>(Hover for breakdown)',\n",
    "        geo = dict(\n",
    "            #scope='world',\n",
    "            projection=dict( type='Mercator' ),\n",
    "            showcoastlines = True,\n",
    "            showlakes = True,\n",
    "            lakecolor = 'rgb(255, 255, 255)'),\n",
    "             );\n",
    "    \n",
    "fig = dict( data=data, layout=layout );\n",
    "ply.iplot( fig, filename='d3-cloropleth-map' )"
   ]
  },
  {
   "cell_type": "code",
   "execution_count": 19,
   "metadata": {},
   "outputs": [
    {
     "data": {
      "text/html": [
       "<iframe id=\"igraph\" scrolling=\"no\" style=\"border:none;\"seamless=\"seamless\" src=\"https://plot.ly/~ahsan_mecha/4.embed\" height=\"525px\" width=\"100%\"></iframe>"
      ],
      "text/plain": [
       "<plotly.tools.PlotlyDisplay object>"
      ]
     },
     "execution_count": 19,
     "metadata": {},
     "output_type": "execute_result"
    }
   ],
   "source": [
    "# get continent wise breakdown\n",
    "import plotly.graph_objs as go\n",
    "url_alpha2_continent = \"https://raw.githubusercontent.com/ahsan2github/datavis/master/country_alpha-2_continent.csv\";\n",
    "cntry_continent_code = pd.read_csv(url_alpha2_continent);\n",
    "country_wise_phd_prcnt['continent'] = \"NA\";\n",
    "for x in country_wise_phd_prcnt.index.values:\n",
    "     tmp = cntry_continent_code[cntry_continent_code['alpha-2']==x];\n",
    "     if(tmp.empty != True):\n",
    "         country_wise_phd_prcnt.at[x, 'continent'] = tmp['continent'].values[0];        \n",
    "if(country_wise_phd_prcnt.index.values.shape[0] != country_wise_phd_prcnt['continent'].values.shape[0]):\n",
    "    print(\"Didn't get continent values for all countries!\");\n",
    "xx = country_wise_phd_prcnt['continent'].apply(lambda x: x== '').values;\n",
    "indx = np.where(xx)[0]    ;\n",
    "country_wise_phd_prcnt.dropna();\n",
    "country_wise_phd_prcnt = country_wise_phd_prcnt.dropna();\n",
    "country_wise_phd_prcnt = country_wise_phd_prcnt[country_wise_phd_prcnt.continent != 'NA'];\n",
    "continent_wise_prcnt = country_wise_phd_prcnt.groupby('continent').sum();\n",
    "#print(continent_wise_prcnt.to_string())\n",
    "#print(country_wise_phd_prcnt.sort_values(by=['continent']).to_string())\n",
    "labels = continent_wise_prcnt.index.values; \n",
    "values = continent_wise_prcnt['phd_prcnt'].values;\n",
    "colors = ['#FEBFB3', '#E1396C', '#96D38C', '#D0F9B1'];\n",
    "cont_phd = go.Pie(labels=labels, values=values,\n",
    "               hoverinfo='label+values', textinfo=' ', \n",
    "               textfont=dict(size=20),\n",
    "               marker=dict(colors=colors, \n",
    "                           line=dict(color='#000000', width=2)));\n",
    "ply.iplot([cont_phd], filename='continent_wise_phd_prcnt')"
   ]
  }
 ],
 "metadata": {
  "kernelspec": {
   "display_name": "Python 3",
   "language": "python",
   "name": "python3"
  },
  "language_info": {
   "codemirror_mode": {
    "name": "ipython",
    "version": 3
   },
   "file_extension": ".py",
   "mimetype": "text/x-python",
   "name": "python",
   "nbconvert_exporter": "python",
   "pygments_lexer": "ipython3",
   "version": "3.5.2"
  }
 },
 "nbformat": 4,
 "nbformat_minor": 2
}
